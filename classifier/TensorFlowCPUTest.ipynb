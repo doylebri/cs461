{
 "cells": [
  {
   "cell_type": "code",
   "execution_count": null,
   "id": "87e9c046-8cc2-442c-92aa-15d3a7df2d2a",
   "metadata": {},
   "outputs": [
    {
     "name": "stdout",
     "output_type": "stream",
     "text": [
      "tensorflow version: 2.15.0\n",
      "CPU device found at /CPU:0\n",
      "GPU device found at /GPU:0\n",
      "running tensorflow on /GPU:0\n",
      "setting loss_fn\n",
      "setting cifar\n",
      "calling cifar.load_data()\n",
      "setting model\n"
     ]
    },
    {
     "name": "stderr",
     "output_type": "stream",
     "text": [
      "2024-02-20 19:58:36.611260: I metal_plugin/src/device/metal_device.cc:1154] Metal device set to: Apple M1 Max\n",
      "2024-02-20 19:58:36.611280: I metal_plugin/src/device/metal_device.cc:296] systemMemory: 64.00 GB\n",
      "2024-02-20 19:58:36.611284: I metal_plugin/src/device/metal_device.cc:313] maxCacheSize: 24.00 GB\n",
      "2024-02-20 19:58:36.611327: I tensorflow/core/common_runtime/pluggable_device/pluggable_device_factory.cc:306] Could not identify NUMA node of platform GPU ID 0, defaulting to 0. Your kernel may not have been built with NUMA support.\n",
      "2024-02-20 19:58:36.611340: I tensorflow/core/common_runtime/pluggable_device/pluggable_device_factory.cc:272] Created TensorFlow device (/job:localhost/replica:0/task:0/device:GPU:0 with 0 MB memory) -> physical PluggableDevice (device: 0, name: METAL, pci bus id: <undefined>)\n"
     ]
    },
    {
     "name": "stdout",
     "output_type": "stream",
     "text": [
      "compiling model\n",
      "3.45 ms ± 102 µs per loop (mean ± std. dev. of 7 runs, 100 loops each)\n",
      "fitting model\n",
      "Epoch 1/5\n"
     ]
    },
    {
     "name": "stderr",
     "output_type": "stream",
     "text": [
      "2024-02-20 19:58:42.410073: I tensorflow/core/grappler/optimizers/custom_graph_optimizer_registry.cc:117] Plugin optimizer for device_type GPU is enabled.\n"
     ]
    },
    {
     "name": "stdout",
     "output_type": "stream",
     "text": [
      "209/782 [=======>......................] - ETA: 38s - loss: 5.1641 - accuracy: 0.0316"
     ]
    }
   ],
   "source": [
    "# setting device type:\n",
    "# https://www.tensorflow.org/api_docs/python/tf/config/set_visible_devices\n",
    "# https://www.tensorflow.org/guide/gpu\n",
    "# https://stackoverflow.com/a/59483305/312594\n",
    "# https://stackoverflow.com/questions/37660312/how-to-run-tensorflow-on-cpu\n",
    "# https://stackoverflow.com/questions/59411681/tensorflow-2-how-to-switch-execution-from-gpu-to-cpu-and-back\n",
    "\n",
    "from types import ModuleType as MT\n",
    "\n",
    "def reportImports():\n",
    "    # https://stackoverflow.com/questions/4858100/how-to-list-imported-modules\n",
    "    all = [k for k,v in globals().items() if type(v) is MT and not k.startswith('__')]\n",
    "    imports = \", \".join(all)\n",
    "    print(f'imports: [{imports}]')\n",
    "\n",
    "import tensorflow as tf\n",
    "import timeit\n",
    "\n",
    "print(f'tensorflow version: {tf.__version__}')\n",
    "\n",
    "# To find out which devices your operations and tensors are assigned to\n",
    "#tf.debugging.set_log_device_placement(True)\n",
    "\n",
    "useCPU = False\n",
    "hideGPUs = useCPU and False\n",
    "\n",
    "cpuDevice = None\n",
    "gpuDevice = None\n",
    "\n",
    "for device in tf.config.list_physical_devices():\n",
    "    name = '/' + device.name.lstrip('/physical_device:');\n",
    "\n",
    "    print(f'{device.device_type} device found at {name}')\n",
    "\n",
    "    if device.device_type == 'CPU':\n",
    "        cpuDevice = name\n",
    "    if device.device_type == 'GPU':\n",
    "        gpuDevice = name\n",
    "\n",
    "if hideGPUs:\n",
    "    print('hiding GPUs')\n",
    "    tf.config.set_visible_devices([], 'GPU')\n",
    "\n",
    "if useCPU or gpuDevice is None:\n",
    "    selectedDevice = cpuDevice\n",
    "else:\n",
    "    selectedDevice = gpuDevice\n",
    "\n",
    "print(f'running tensorflow on {selectedDevice}')\n",
    "\n",
    "with tf.device(selectedDevice):\n",
    "    print('setting loss_fn')\n",
    "    loss_fn = tf.keras.losses.SparseCategoricalCrossentropy(from_logits=False)\n",
    "\n",
    "    print('setting cifar')\n",
    "    cifar = tf.keras.datasets.cifar100\n",
    "\n",
    "    print('calling cifar.load_data()')\n",
    "    (x_train, y_train), (x_test, y_test) = cifar.load_data()\n",
    "\n",
    "    print('setting model')\n",
    "    model = tf.keras.applications.ResNet50(\n",
    "        include_top=True,\n",
    "        weights=None,\n",
    "        input_shape=(32, 32, 3),\n",
    "        classes=100,)\n",
    "\n",
    "    print('compiling model')\n",
    "    %timeit model.compile(optimizer=\"adam\", loss=loss_fn, metrics=[\"accuracy\"])\n",
    "\n",
    "    print('fitting model')\n",
    "    %timeit model.fit(x_train, y_train, epochs=5, batch_size=64)\n",
    "\n",
    "print('done')\n"
   ]
  }
 ],
 "metadata": {
  "kernelspec": {
   "display_name": "classifier",
   "language": "python",
   "name": "classifier"
  },
  "language_info": {
   "codemirror_mode": {
    "name": "ipython",
    "version": 3
   },
   "file_extension": ".py",
   "mimetype": "text/x-python",
   "name": "python",
   "nbconvert_exporter": "python",
   "pygments_lexer": "ipython3",
   "version": "3.11.7"
  }
 },
 "nbformat": 4,
 "nbformat_minor": 5
}
